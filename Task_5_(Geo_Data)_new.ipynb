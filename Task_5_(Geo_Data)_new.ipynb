{
 "cells": [
  {
   "cell_type": "markdown",
   "metadata": {
    "id": "F-dW3ix8Jehg"
   },
   "source": [
    "# you are working in a marketing company Christmas market and your manager asked you to get the location of the customer from their address and put them on a world map"
   ]
  },
  {
   "cell_type": "code",
   "execution_count": 1,
   "metadata": {
    "id": "pLM6R8n9LhLa"
   },
   "outputs": [],
   "source": [
    "import numpy as np\n",
    "import pandas as pd"
   ]
  },
  {
   "cell_type": "code",
   "execution_count": 2,
   "metadata": {},
   "outputs": [],
   "source": [
    "df = pd.read_csv('ChristmasMarketData.csv')"
   ]
  },
  {
   "cell_type": "code",
   "execution_count": 3,
   "metadata": {},
   "outputs": [
    {
     "data": {
      "text/html": [
       "<div>\n",
       "<style scoped>\n",
       "    .dataframe tbody tr th:only-of-type {\n",
       "        vertical-align: middle;\n",
       "    }\n",
       "\n",
       "    .dataframe tbody tr th {\n",
       "        vertical-align: top;\n",
       "    }\n",
       "\n",
       "    .dataframe thead th {\n",
       "        text-align: right;\n",
       "    }\n",
       "</style>\n",
       "<table border=\"1\" class=\"dataframe\">\n",
       "  <thead>\n",
       "    <tr style=\"text-align: right;\">\n",
       "      <th></th>\n",
       "      <th>name</th>\n",
       "      <th>address</th>\n",
       "      <th>descriptio</th>\n",
       "      <th>Ort</th>\n",
       "      <th>Datum</th>\n",
       "      <th>Öffnungsz</th>\n",
       "      <th>Corona-Reg</th>\n",
       "      <th>Beschreibu</th>\n",
       "      <th>Website</th>\n",
       "      <th>Country</th>\n",
       "    </tr>\n",
       "  </thead>\n",
       "  <tbody>\n",
       "    <tr>\n",
       "      <th>0</th>\n",
       "      <td>Stuttgarter Weihnachtsmarkt</td>\n",
       "      <td>Marktplatz 1, 70173 Stuttgart</td>\n",
       "      <td>Ort: Marktplatz 1, 70173 Stuttgart&lt;br&gt;Datum: 2...</td>\n",
       "      <td>Marktplatz 1, 70173 Stuttgart</td>\n",
       "      <td>24. November bis 30. Dezember</td>\n",
       "      <td>• Montag bis Donnerstag: 10 bis 21 Uhr\\n• Frei...</td>\n",
       "      <td>• 2G-Regel und Maskenpflicht auf dem gesamten ...</td>\n",
       "      <td>Der Weihnachtsmarkt findet in diesem Jahr stat...</td>\n",
       "      <td>https://www.stuttgarter-weihnachtsmarkt.de/de/...</td>\n",
       "      <td>Germany</td>\n",
       "    </tr>\n",
       "    <tr>\n",
       "      <th>1</th>\n",
       "      <td>Esslinger Mittelalter- und Weihnachtsmarkt</td>\n",
       "      <td>Rathausplatz, 73728 Esslingen am Neckar</td>\n",
       "      <td>Ort: Rathausplatz, 73728 Esslingen am Neckar&lt;b...</td>\n",
       "      <td>Rathausplatz, 73728 Esslingen am Neckar</td>\n",
       "      <td>23. November bis 22. Dezember</td>\n",
       "      <td>•Eröffnungstag: 16 bis 20 Uhr \\n•Sonntag bis D...</td>\n",
       "      <td>• Wenn Ihr direkt vor Ort Essen und Trinken wo...</td>\n",
       "      <td>Als einer der bekanntesten Weihnachtsmärkte in...</td>\n",
       "      <td>https://www.esslingen-marketing.de/weihnachtsm...</td>\n",
       "      <td>Germany</td>\n",
       "    </tr>\n",
       "  </tbody>\n",
       "</table>\n",
       "</div>"
      ],
      "text/plain": [
       "                                         name  \\\n",
       "0                 Stuttgarter Weihnachtsmarkt   \n",
       "1  Esslinger Mittelalter- und Weihnachtsmarkt   \n",
       "\n",
       "                                   address  \\\n",
       "0            Marktplatz 1, 70173 Stuttgart   \n",
       "1  Rathausplatz, 73728 Esslingen am Neckar   \n",
       "\n",
       "                                          descriptio  \\\n",
       "0  Ort: Marktplatz 1, 70173 Stuttgart<br>Datum: 2...   \n",
       "1  Ort: Rathausplatz, 73728 Esslingen am Neckar<b...   \n",
       "\n",
       "                                       Ort                          Datum  \\\n",
       "0            Marktplatz 1, 70173 Stuttgart  24. November bis 30. Dezember   \n",
       "1  Rathausplatz, 73728 Esslingen am Neckar  23. November bis 22. Dezember   \n",
       "\n",
       "                                           Öffnungsz  \\\n",
       "0  • Montag bis Donnerstag: 10 bis 21 Uhr\\n• Frei...   \n",
       "1  •Eröffnungstag: 16 bis 20 Uhr \\n•Sonntag bis D...   \n",
       "\n",
       "                                          Corona-Reg  \\\n",
       "0  • 2G-Regel und Maskenpflicht auf dem gesamten ...   \n",
       "1  • Wenn Ihr direkt vor Ort Essen und Trinken wo...   \n",
       "\n",
       "                                          Beschreibu  \\\n",
       "0  Der Weihnachtsmarkt findet in diesem Jahr stat...   \n",
       "1  Als einer der bekanntesten Weihnachtsmärkte in...   \n",
       "\n",
       "                                             Website  Country  \n",
       "0  https://www.stuttgarter-weihnachtsmarkt.de/de/...  Germany  \n",
       "1  https://www.esslingen-marketing.de/weihnachtsm...  Germany  "
      ]
     },
     "execution_count": 3,
     "metadata": {},
     "output_type": "execute_result"
    }
   ],
   "source": [
    "df.head(2)"
   ]
  },
  {
   "cell_type": "code",
   "execution_count": null,
   "metadata": {},
   "outputs": [],
   "source": []
  },
  {
   "cell_type": "code",
   "execution_count": 4,
   "metadata": {},
   "outputs": [],
   "source": [
    "#!pip install geopy"
   ]
  },
  {
   "cell_type": "code",
   "execution_count": null,
   "metadata": {},
   "outputs": [],
   "source": []
  },
  {
   "cell_type": "code",
   "execution_count": 5,
   "metadata": {},
   "outputs": [
    {
     "data": {
      "text/plain": [
       "0              Marktplatz 1, 70173 Stuttgart\n",
       "1    Rathausplatz, 73728 Esslingen am Neckar\n",
       "Name: address, dtype: object"
      ]
     },
     "execution_count": 5,
     "metadata": {},
     "output_type": "execute_result"
    }
   ],
   "source": [
    "df.iloc[0:2]['address']"
   ]
  },
  {
   "cell_type": "code",
   "execution_count": 6,
   "metadata": {},
   "outputs": [],
   "source": [
    "address='Marktplatz 1, 70173 Stuttgart'"
   ]
  },
  {
   "cell_type": "code",
   "execution_count": 7,
   "metadata": {},
   "outputs": [],
   "source": [
    "from geopy.geocoders import Nominatim"
   ]
  },
  {
   "cell_type": "code",
   "execution_count": 8,
   "metadata": {},
   "outputs": [],
   "source": [
    "geolocator = Nominatim(user_agent=\"mm\")"
   ]
  },
  {
   "cell_type": "code",
   "execution_count": 9,
   "metadata": {},
   "outputs": [
    {
     "data": {
      "text/plain": [
       "{'place_id': 18452264,\n",
       " 'licence': 'Data © OpenStreetMap contributors, ODbL 1.0. https://osm.org/copyright',\n",
       " 'osm_type': 'node',\n",
       " 'osm_id': 2131355261,\n",
       " 'boundingbox': ['48.7747656', '48.7748656', '9.1774418', '9.1775418'],\n",
       " 'lat': '48.7748156',\n",
       " 'lon': '9.1774918',\n",
       " 'display_name': 'Rathausbücherei, 1, Marktplatz, Rathaus, Stuttgart-Mitte, Stuttgart, Baden-Württemberg, 70173, Deutschland',\n",
       " 'class': 'amenity',\n",
       " 'type': 'library',\n",
       " 'importance': 0.44001,\n",
       " 'icon': 'https://nominatim.openstreetmap.org/ui/mapicons/amenity_library.p.20.png'}"
      ]
     },
     "execution_count": 9,
     "metadata": {},
     "output_type": "execute_result"
    }
   ],
   "source": [
    "location=geolocator.geocode(address)\n",
    "location.raw"
   ]
  },
  {
   "cell_type": "code",
   "execution_count": 10,
   "metadata": {},
   "outputs": [
    {
     "data": {
      "text/plain": [
       "('48.7748156', '9.1774918')"
      ]
     },
     "execution_count": 10,
     "metadata": {},
     "output_type": "execute_result"
    }
   ],
   "source": [
    "location.raw['lat'], location.raw['lon']"
   ]
  },
  {
   "cell_type": "code",
   "execution_count": 11,
   "metadata": {},
   "outputs": [],
   "source": [
    "def get_location(x):\n",
    "    try:\n",
    "        location=geolocator.geocode(address)\n",
    "        return location.raw['lat'], location.raw['lon']\n",
    "    except:\n",
    "        return np.nan\n",
    "\n",
    "df['location'] = df.apply(get_location, axis=1)\n",
    "df.head(5)"
   ]
  },
  {
   "cell_type": "code",
   "execution_count": null,
   "metadata": {},
   "outputs": [],
   "source": []
  },
  {
   "cell_type": "code",
   "execution_count": null,
   "metadata": {},
   "outputs": [],
   "source": []
  }
 ],
 "metadata": {
  "colab": {
   "name": "Task 5 (Geo Data)_new.ipynb",
   "provenance": []
  },
  "kernelspec": {
   "display_name": "Python 3",
   "language": "python",
   "name": "python3"
  },
  "language_info": {
   "codemirror_mode": {
    "name": "ipython",
    "version": 3
   },
   "file_extension": ".py",
   "mimetype": "text/x-python",
   "name": "python",
   "nbconvert_exporter": "python",
   "pygments_lexer": "ipython3",
   "version": "3.7.6"
  }
 },
 "nbformat": 4,
 "nbformat_minor": 1
}
